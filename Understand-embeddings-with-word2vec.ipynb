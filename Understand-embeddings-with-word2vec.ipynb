{
 "cells": [
  {
   "cell_type": "markdown",
   "metadata": {},
   "source": [
    "# Understand embeddings with Word2Vec"
   ]
  },
  {
   "cell_type": "markdown",
   "metadata": {},
   "source": [
    "### Exercise objectives:\n",
    "- Convert 🔠 words to 🔢 vector representations thanks to embeddings\n",
    "- Discover the powerful Word2Vec algorithm\n",
    "\n",
    "<hr>\n",
    "\n",
    "_Embeddings_ are representations of words using vectors. These embeddings can be learned within a Neural Network. But it can take time to converge. Another option is to learn them as a first step. Then, use them directly to feed the word representations into a Recurrent Neural Network. "
   ]
  },
  {
   "cell_type": "markdown",
   "metadata": {},
   "source": [
    "▶️ Run this cell and make sure the version of 📚 [Gensim - Word2Vec](https://radimrehurek.com/gensim/auto_examples/index.html) you are using is ≥ 4.0!"
   ]
  },
  {
   "cell_type": "code",
   "execution_count": 1,
   "metadata": {
    "execution": {
     "iopub.execute_input": "2025-05-22T13:27:17.901624Z",
     "iopub.status.busy": "2025-05-22T13:27:17.901362Z",
     "iopub.status.idle": "2025-05-22T13:27:18.835680Z",
     "shell.execute_reply": "2025-05-22T13:27:18.834748Z",
     "shell.execute_reply.started": "2025-05-22T13:27:17.901604Z"
    }
   },
   "outputs": [
    {
     "name": "stdout",
     "output_type": "stream",
     "text": [
      "gensim==4.3.3\n"
     ]
    }
   ],
   "source": [
    "!pip freeze | grep gensim"
   ]
  },
  {
   "cell_type": "code",
   "execution_count": 2,
   "metadata": {
    "execution": {
     "iopub.execute_input": "2025-05-22T13:27:18.951688Z",
     "iopub.status.busy": "2025-05-22T13:27:18.951296Z",
     "iopub.status.idle": "2025-05-22T13:27:19.651939Z",
     "shell.execute_reply": "2025-05-22T13:27:19.650837Z",
     "shell.execute_reply.started": "2025-05-22T13:27:18.951659Z"
    }
   },
   "outputs": [
    {
     "name": "stdout",
     "output_type": "stream",
     "text": [
      "tensorflow==2.19.0\n",
      "tensorflow-datasets==4.9.7\n",
      "tensorflow-metadata==1.16.1\n"
     ]
    }
   ],
   "source": [
    "!pip freeze | grep tensorflow"
   ]
  },
  {
   "cell_type": "markdown",
   "metadata": {},
   "source": [
    "# The data"
   ]
  },
  {
   "cell_type": "markdown",
   "metadata": {},
   "source": [
    "Keras provides many datasets, among which is the IMDB dataset 🎬:\n",
    "- It is comprised of sentences that are ***movie reviews***. \n",
    "- Each of these reviews is related to a score given by the reviewer.\n",
    "\n",
    "❓ **Question** ❓ First of all, let's load the data. You don't have to understand what is going on in the function, it does not matter here.\n",
    "\n",
    "⚠️ **Warning** ⚠️ The `load_data` function has a `percentage_of_sentences` argument. Depending on your computer, there are chances that too many sentences will make your compute slow down, or even freeze - your RAM can overflow. For that reason, **you should start with 10% of the sentences** and see if your computer can handle it. Otherwise, rerun with a lower number.  \n",
    "\n",
    "⚠️ **DISCLAIMER** ⚠️ **No need to play _who has the biggest_ (RAM) !** The idea is to get to run your models quickly to prototype. Even in real life, it is recommended that you start with a subset of your data to loop and debug quickly. So increase the number only if you are into getting the best accuracy. "
   ]
  },
  {
   "cell_type": "code",
   "execution_count": 3,
   "metadata": {
    "execution": {
     "iopub.execute_input": "2025-05-22T13:28:10.715512Z",
     "iopub.status.busy": "2025-05-22T13:28:10.714773Z",
     "iopub.status.idle": "2025-05-22T13:28:21.883005Z",
     "shell.execute_reply": "2025-05-22T13:28:21.882032Z",
     "shell.execute_reply.started": "2025-05-22T13:28:10.715470Z"
    }
   },
   "outputs": [
    {
     "name": "stderr",
     "output_type": "stream",
     "text": [
      "2025-05-22 15:28:12.176446: I external/local_xla/xla/tsl/cuda/cudart_stub.cc:32] Could not find cuda drivers on your machine, GPU will not be used.\n",
      "2025-05-22 15:28:12.344879: I external/local_xla/xla/tsl/cuda/cudart_stub.cc:32] Could not find cuda drivers on your machine, GPU will not be used.\n",
      "2025-05-22 15:28:12.512964: E external/local_xla/xla/stream_executor/cuda/cuda_fft.cc:467] Unable to register cuFFT factory: Attempting to register factory for plugin cuFFT when one has already been registered\n",
      "WARNING: All log messages before absl::InitializeLog() is called are written to STDERR\n",
      "E0000 00:00:1747920492.632875    2681 cuda_dnn.cc:8579] Unable to register cuDNN factory: Attempting to register factory for plugin cuDNN when one has already been registered\n",
      "E0000 00:00:1747920492.669251    2681 cuda_blas.cc:1407] Unable to register cuBLAS factory: Attempting to register factory for plugin cuBLAS when one has already been registered\n",
      "W0000 00:00:1747920492.930880    2681 computation_placer.cc:177] computation placer already registered. Please check linkage and avoid linking the same target more than once.\n",
      "W0000 00:00:1747920492.930903    2681 computation_placer.cc:177] computation placer already registered. Please check linkage and avoid linking the same target more than once.\n",
      "W0000 00:00:1747920492.930905    2681 computation_placer.cc:177] computation placer already registered. Please check linkage and avoid linking the same target more than once.\n",
      "W0000 00:00:1747920492.930907    2681 computation_placer.cc:177] computation placer already registered. Please check linkage and avoid linking the same target more than once.\n",
      "2025-05-22 15:28:12.969128: I tensorflow/core/platform/cpu_feature_guard.cc:210] This TensorFlow binary is optimized to use available CPU instructions in performance-critical operations.\n",
      "To enable the following instructions: AVX2 FMA, in other operations, rebuild TensorFlow with the appropriate compiler flags.\n",
      "E0000 00:00:1747920498.907269    2681 cuda_executor.cc:1228] INTERNAL: CUDA Runtime error: Failed call to cudaGetRuntimeVersion: Error loading CUDA libraries. GPU will not be used.: Error loading CUDA libraries. GPU will not be used.\n",
      "W0000 00:00:1747920498.907683    2681 gpu_device.cc:2341] Cannot dlopen some GPU libraries. Please make sure the missing libraries mentioned above are installed properly if you would like to use GPU. Follow the guide at https://www.tensorflow.org/install/gpu for how to download and setup the required libraries for your platform.\n",
      "Skipping registering GPU devices...\n",
      "2025-05-22 15:28:19.032265: I tensorflow/core/kernels/data/tf_record_dataset_op.cc:387] The default buffer size is 262144, which is overridden by the user specified `buffer_size` of 8388608\n"
     ]
    }
   ],
   "source": [
    "###########################################\n",
    "### Just run this cell to load the data ###\n",
    "###########################################\n",
    "\n",
    "import tensorflow_datasets as tfds\n",
    "from tensorflow.keras.preprocessing.text import text_to_word_sequence\n",
    "\n",
    "def load_data(percentage_of_sentences=None):\n",
    "    train_data, test_data = tfds.load(name=\"imdb_reviews\", split=[\"train\", \"test\"], batch_size=-1, as_supervised=True)\n",
    "\n",
    "    train_sentences, y_train = tfds.as_numpy(train_data)\n",
    "    test_sentences, y_test = tfds.as_numpy(test_data)\n",
    "\n",
    "    # Take only a given percentage of the entire data\n",
    "    if percentage_of_sentences is not None:\n",
    "        assert(percentage_of_sentences> 0 and percentage_of_sentences<=100)\n",
    "\n",
    "        len_train = int(percentage_of_sentences/100*len(train_sentences))\n",
    "        train_sentences, y_train = train_sentences[:len_train], y_train[:len_train]\n",
    "\n",
    "        len_test = int(percentage_of_sentences/100*len(test_sentences))\n",
    "        test_sentences, y_test = test_sentences[:len_test], y_test[:len_test]\n",
    "\n",
    "    X_train = [text_to_word_sequence(_.decode(\"utf-8\")) for _ in train_sentences]\n",
    "    X_test = [text_to_word_sequence(_.decode(\"utf-8\")) for _ in test_sentences]\n",
    "\n",
    "    return X_train, y_train, X_test, y_test\n",
    "\n",
    "X_train, y_train, X_test, y_test = load_data(percentage_of_sentences=10)"
   ]
  },
  {
   "cell_type": "markdown",
   "metadata": {},
   "source": [
    "<b><u>Embeddings in the previous challenge</u></b>:\n",
    "\n",
    "In the previous exercise, we jointly learned a representation for the words, and fed this representation to a RNN, as shown down below 👇: \n",
    "\n",
    "<img src=\"https://wagon-public-datasets.s3.amazonaws.com/data-science-images/06-DL/NLP/layers_embedding.png\" alt=\"Joint learning of embedding and RNN\" width=\"400px\" />\n",
    "\n",
    "However, this increases the number of parameters to learn, which slows down and increases the difficulty of convergence!"
   ]
  },
  {
   "cell_type": "markdown",
   "metadata": {},
   "source": [
    "<b><u>Embeddings in the current challenge</u></b>:\n",
    "\n",
    "For this reason, we will separate the steps of learning the word representation and feeding it into a RNN. As shown here: \n",
    "\n",
    "<img src=\"https://wagon-public-datasets.s3.amazonaws.com/data-science-images/06-DL/NLP/word2vec_representation.png\" alt=\"Training of RNN and embedding independently\" width=\"400px\" />\n",
    "\n",
    "We will learn the embedding with Word2Vec.\n",
    "\n",
    "The drawback is indeed that the learned embeddings are not _specifically_ designed for our task. However, learning them independently of the task at hand (sentiment analysis) has some advantages: \n",
    "- it is very fast to do in general (with Word2Vec)\n",
    "- the representation learned by Word2Vec is still meaningful \n",
    "- the convergence of the RNN alone will be easier and faster\n",
    "\n",
    "So let's learn an embedding with Word2Vec and see how meaningful it is!"
   ]
  },
  {
   "cell_type": "markdown",
   "metadata": {},
   "source": [
    "# Embedding with Word2Vec"
   ]
  },
  {
   "cell_type": "markdown",
   "metadata": {},
   "source": [
    "Let's use Word2Vec to embed the words of our sentences. Word2Vec will be able to convert each word to a fixed-size vectorial representation.\n",
    "\n",
    "For instance, we will have:\n",
    "- 🐶 _dog_ $\\rightarrow$ [0.1, -0.3, 0.8]\n",
    "- 🐱 _cat_ $\\rightarrow$ [-1.1, 2.3, 0.7]\n",
    "- 🍏 _apple_ $\\rightarrow$ [3.1, 0.9, -4.7]\n",
    "\n",
    "Here, your embedding space is of size 3.\n",
    "\n",
    "***What is a \"good\" numerical representation of words?***\n",
    "\n",
    "- ***Words with close meanings should be geometrically close in your embedding space!***\n",
    "\n",
    "    - Look at the following example which represents a bi-dimensional embedding space.\n",
    "\n",
    "![Embedding](https://wagon-public-datasets.s3.amazonaws.com/data-science-images/06-DL/NLP/word_embedding.png)"
   ]
  },
  {
   "cell_type": "markdown",
   "metadata": {},
   "source": [
    "❓ **Question** ❓ Let's run Word2Vec! \n",
    "\n",
    "[📚 **Gensim**](https://radimrehurek.com/gensim/)  is a great Python package that makes the use of the Word2Vec algorithm easy to implement, fast and accurate (which is not an easy task!).\n",
    "\n",
    "1. The following code imports Word2Vec from Gensim. \n",
    "\n",
    "2. The second line learns the embedding representation of the words thanks to the sentences in `X_train`. \n",
    "3. The third line stores the words and their trained embeddings in `wv`."
   ]
  },
  {
   "cell_type": "code",
   "execution_count": 4,
   "metadata": {
    "execution": {
     "iopub.execute_input": "2025-05-22T13:32:44.307195Z",
     "iopub.status.busy": "2025-05-22T13:32:44.306363Z",
     "iopub.status.idle": "2025-05-22T13:32:45.838560Z",
     "shell.execute_reply": "2025-05-22T13:32:45.837721Z",
     "shell.execute_reply.started": "2025-05-22T13:32:44.307148Z"
    }
   },
   "outputs": [],
   "source": [
    "from gensim.models import Word2Vec\n",
    "\n",
    "word2vec = Word2Vec(sentences=X_train)\n",
    "wv = word2vec.wv"
   ]
  },
  {
   "cell_type": "markdown",
   "metadata": {},
   "source": [
    "Let's look at the embedded representation of some words.\n",
    "\n",
    "You can use `wv` as a dictionary.\n",
    "For instance, `wv['dog']` will return a representation of `dog` in the embedding space."
   ]
  },
  {
   "cell_type": "markdown",
   "metadata": {},
   "source": [
    "❓ **Question** ❓ Try different words - especially, try non-existing words to see that they don't have any representation (which is perfectly normal as their representation was not learned). "
   ]
  },
  {
   "cell_type": "code",
   "execution_count": 15,
   "metadata": {
    "execution": {
     "iopub.execute_input": "2025-05-22T13:34:18.333072Z",
     "iopub.status.busy": "2025-05-22T13:34:18.332732Z",
     "iopub.status.idle": "2025-05-22T13:34:18.341143Z",
     "shell.execute_reply": "2025-05-22T13:34:18.339784Z",
     "shell.execute_reply.started": "2025-05-22T13:34:18.333052Z"
    },
    "tags": [
     "challengify"
    ]
   },
   "outputs": [
    {
     "data": {
      "text/plain": [
       "array([-0.01259061,  0.10897601, -0.03541998,  0.14515454, -0.03285385,\n",
       "       -0.21428728,  0.07928195,  0.32540518, -0.12989151, -0.13521509,\n",
       "        0.05397818, -0.1917811 ,  0.05130879,  0.11838851,  0.00855492,\n",
       "       -0.06918262,  0.14344034, -0.07701989, -0.04957432, -0.23032683,\n",
       "        0.08620376,  0.02644371,  0.15865871, -0.12482186, -0.01105135,\n",
       "        0.00553806, -0.15416706, -0.04973375, -0.06478898, -0.0117502 ,\n",
       "        0.09898517,  0.00270209,  0.08067389, -0.11524189, -0.14111122,\n",
       "        0.08576984,  0.08506197, -0.08308662, -0.1514504 , -0.17136   ,\n",
       "       -0.03700036, -0.12652302, -0.12203512,  0.02334025,  0.07869741,\n",
       "        0.027787  , -0.09930664, -0.07569452,  0.10504513,  0.14543156,\n",
       "       -0.01989167, -0.12412392, -0.18037644, -0.02635814, -0.07090568,\n",
       "        0.03672115,  0.12987715, -0.02429155, -0.0545173 ,  0.01738367,\n",
       "        0.02086783, -0.0743294 ,  0.04546538,  0.07240435, -0.1031701 ,\n",
       "        0.13981907, -0.04025728,  0.02626171, -0.21264847,  0.11608298,\n",
       "       -0.09437805,  0.13668713,  0.10509008, -0.12805119,  0.18145679,\n",
       "        0.01101857,  0.03528985,  0.10907269, -0.18181953,  0.00087368,\n",
       "       -0.06338635, -0.07055437, -0.08702553,  0.106641  , -0.10501486,\n",
       "       -0.11432387, -0.00080847,  0.09866015,  0.17297482,  0.06116375,\n",
       "        0.08013887,  0.11885517, -0.00678608,  0.00815761,  0.25231937,\n",
       "        0.02249818,  0.15226066, -0.11142188,  0.10619001,  0.05374475],\n",
       "      dtype=float32)"
      ]
     },
     "execution_count": 15,
     "metadata": {},
     "output_type": "execute_result"
    }
   ],
   "source": [
    "wv['germany']"
   ]
  },
  {
   "cell_type": "markdown",
   "metadata": {},
   "source": [
    "❓ **Question** ❓ What is the size of each word representation, and therefore, what is the size of the embedding space?"
   ]
  },
  {
   "cell_type": "code",
   "execution_count": 16,
   "metadata": {
    "execution": {
     "iopub.execute_input": "2025-05-22T13:35:35.150700Z",
     "iopub.status.busy": "2025-05-22T13:35:35.149561Z",
     "iopub.status.idle": "2025-05-22T13:35:35.157165Z",
     "shell.execute_reply": "2025-05-22T13:35:35.155952Z",
     "shell.execute_reply.started": "2025-05-22T13:35:35.150671Z"
    },
    "tags": [
     "challengify"
    ]
   },
   "outputs": [
    {
     "name": "stdout",
     "output_type": "stream",
     "text": [
      "(100,)\n"
     ]
    }
   ],
   "source": [
    "print(wv['germany'].shape)\n"
   ]
  },
  {
   "cell_type": "markdown",
   "metadata": {},
   "source": [
    "🧐 How do we know whether this embedding make any sense or not? \n",
    "\n",
    "💡 To investigate this question, we will check that words with a close meaning have close representations. \n",
    "\n",
    "👉 Let's use the [**`Word2Vec.wv.most_similar`**](https://radimrehurek.com/gensim/models/keyedvectors.html#gensim.models.keyedvectors.KeyedVectors.most_similar) method that, given an input word, displays the \"closest\" words in the embedding space. If the embedding is well done, then words with similar meanings will have similar representation in the embedding space."
   ]
  },
  {
   "cell_type": "markdown",
   "metadata": {},
   "source": [
    "❓ **Question** ❓ Try out the `most_similar` method on different words. \n",
    "\n",
    "🧑🏿‍🏫 The quality of the closeness will depend on the quality of your embedding, and thus, depend on the number of sentences that you have loaded and from which you create your embedding."
   ]
  },
  {
   "cell_type": "code",
   "execution_count": 20,
   "metadata": {
    "execution": {
     "iopub.execute_input": "2025-05-22T13:37:59.602236Z",
     "iopub.status.busy": "2025-05-22T13:37:59.601896Z",
     "iopub.status.idle": "2025-05-22T13:37:59.611282Z",
     "shell.execute_reply": "2025-05-22T13:37:59.609400Z",
     "shell.execute_reply.started": "2025-05-22T13:37:59.602215Z"
    },
    "tags": [
     "challengify"
    ]
   },
   "outputs": [
    {
     "name": "stdout",
     "output_type": "stream",
     "text": [
      "[('guinea', 0.9817646145820618), ('2001', 0.9802541136741638), ('gamera', 0.9777314066886902), ('cold', 0.9777153134346008), ('leonard', 0.9771721959114075), ('1980', 0.9770714044570923), ('ii', 0.9769440293312073), ('absolute', 0.9765051007270813), ('17', 0.976080596446991), ('naval', 0.9756405353546143)]\n"
     ]
    }
   ],
   "source": [
    "# Check most similar words to 'germany'\n",
    "print(wv.most_similar('germany'))\n"
   ]
  },
  {
   "cell_type": "code",
   "execution_count": 21,
   "metadata": {
    "execution": {
     "iopub.execute_input": "2025-05-22T13:38:14.362911Z",
     "iopub.status.busy": "2025-05-22T13:38:14.361826Z",
     "iopub.status.idle": "2025-05-22T13:38:14.369975Z",
     "shell.execute_reply": "2025-05-22T13:38:14.368845Z",
     "shell.execute_reply.started": "2025-05-22T13:38:14.362872Z"
    }
   },
   "outputs": [
    {
     "name": "stdout",
     "output_type": "stream",
     "text": [
      "[('culture', 0.9872554540634155), ('naval', 0.9858789443969727), ('tied', 0.9855062365531921), ('walls', 0.984674870967865), ('species', 0.9846397042274475), ('happiness', 0.9841641187667847), ('ship', 0.9839056730270386), ('chamber', 0.9838953614234924), ('packed', 0.9833608865737915), ('matthau', 0.9824745059013367)]\n"
     ]
    }
   ],
   "source": [
    "print(wv.most_similar('india'))"
   ]
  },
  {
   "cell_type": "markdown",
   "metadata": {},
   "source": [
    "📚 Similarly to `most_similar` used on words directly, we can use [**`similar_by_vector`**](https://radimrehurek.com/gensim/models/keyedvectors.html#gensim.models.keyedvectors.KeyedVectors.similar_by_vector) on vectors to do the same thing:"
   ]
  },
  {
   "cell_type": "code",
   "execution_count": 22,
   "metadata": {
    "execution": {
     "iopub.execute_input": "2025-05-22T13:38:47.522331Z",
     "iopub.status.busy": "2025-05-22T13:38:47.521906Z",
     "iopub.status.idle": "2025-05-22T13:38:47.529987Z",
     "shell.execute_reply": "2025-05-22T13:38:47.528772Z",
     "shell.execute_reply.started": "2025-05-22T13:38:47.522295Z"
    },
    "tags": [
     "challengify"
    ]
   },
   "outputs": [
    {
     "name": "stdout",
     "output_type": "stream",
     "text": [
      "[('culture', 0.9872554540634155), ('naval', 0.9858789443969727), ('tied', 0.9855062365531921), ('walls', 0.984674870967865), ('species', 0.9846397042274475), ('happiness', 0.9841641187667847), ('ship', 0.9839056730270386), ('chamber', 0.9838953614234924), ('packed', 0.9833608865737915), ('matthau', 0.9824745059013367)]\n"
     ]
    }
   ],
   "source": [
    "print(wv.similar_by_vector('india'))"
   ]
  },
  {
   "cell_type": "markdown",
   "metadata": {},
   "source": [
    "# Arithmetic on words"
   ]
  },
  {
   "cell_type": "markdown",
   "metadata": {},
   "source": [
    "Now, let's perform some mathematical operations on words, i.e. on their vector representations!\n",
    "\n",
    "As any learned word is represented as a vector, you can do basic arithmetic operations, such as:\n",
    "\n",
    "$$W2V(good) - W2V(bad)$$"
   ]
  },
  {
   "cell_type": "markdown",
   "metadata": {},
   "source": [
    "❓ **Question** ❓ Do this mathematical operation and print the result"
   ]
  },
  {
   "cell_type": "code",
   "execution_count": 29,
   "metadata": {
    "execution": {
     "iopub.execute_input": "2025-05-22T13:42:19.072637Z",
     "iopub.status.busy": "2025-05-22T13:42:19.072182Z",
     "iopub.status.idle": "2025-05-22T13:42:19.081674Z",
     "shell.execute_reply": "2025-05-22T13:42:19.080419Z",
     "shell.execute_reply.started": "2025-05-22T13:42:19.072616Z"
    },
    "tags": [
     "challengify"
    ]
   },
   "outputs": [
    {
     "data": {
      "text/plain": [
       "array([-1.8227987e-02,  1.0581054e-02,  4.5964494e-02,  3.1593062e-02,\n",
       "        1.7846934e-03, -6.4170435e-02,  8.7895423e-02,  6.1400950e-02,\n",
       "       -3.3302255e-02, -2.7431145e-02,  3.0003792e-02, -1.6557023e-02,\n",
       "        4.4200271e-03, -6.5019950e-03,  7.4013234e-03,  3.2767683e-02,\n",
       "        1.9627988e-02,  2.1143124e-02, -2.5897263e-02, -3.7347078e-02,\n",
       "       -1.8285006e-02,  4.4556700e-02, -1.3010412e-02,  1.2605637e-02,\n",
       "       -1.1572538e-02,  1.4520551e-02,  2.3665577e-03, -2.8671417e-02,\n",
       "        2.5493942e-02, -1.6224977e-02, -1.3280414e-02, -1.1190812e-02,\n",
       "        6.8947375e-03,  4.4505127e-02, -1.2437791e-02,  3.2861862e-02,\n",
       "        4.7460794e-03, -1.4708325e-02, -9.7848028e-03, -1.1555448e-02,\n",
       "        2.8247558e-02,  1.1059046e-02,  4.3849796e-03, -4.4164144e-02,\n",
       "        7.2652102e-04,  1.2318591e-02,  4.7510117e-03,  4.5095384e-04,\n",
       "       -1.8128276e-02,  4.8203021e-03, -3.4632180e-02, -2.7462155e-02,\n",
       "       -1.3853893e-02, -2.1739751e-03, -2.8535649e-03, -2.9220328e-02,\n",
       "        2.8113127e-02, -1.8944234e-02,  4.2383041e-02,  1.4314676e-02,\n",
       "       -1.8956507e-02, -4.0291701e-02,  5.0452676e-02, -2.7299620e-02,\n",
       "       -3.3099748e-02, -1.8310249e-03, -4.8161764e-02, -2.0439036e-02,\n",
       "       -3.6329120e-02, -2.9905185e-02, -1.9323230e-03, -4.0888786e-05,\n",
       "        2.8066918e-02,  5.3475052e-03, -2.2942871e-03, -1.1531750e-02,\n",
       "       -4.7903694e-03,  1.7206199e-02, -5.0430998e-02,  4.0590607e-02,\n",
       "        6.3741267e-02,  1.5970737e-02,  4.4931225e-02, -1.4566675e-02,\n",
       "       -6.5864548e-03,  1.3061196e-02,  3.5744550e-04, -3.0821137e-02,\n",
       "       -3.3670425e-02, -2.7561273e-02, -2.6998632e-02, -2.4859361e-02,\n",
       "        9.9299997e-03, -3.1311914e-02,  2.4283946e-02,  4.3032672e-03,\n",
       "        3.6719494e-02, -5.6651250e-02, -2.0336732e-02,  3.4535538e-02],\n",
       "      dtype=float32)"
      ]
     },
     "execution_count": 29,
     "metadata": {},
     "output_type": "execute_result"
    }
   ],
   "source": [
    "wv['germany'] - wv['india']\n"
   ]
  },
  {
   "cell_type": "markdown",
   "metadata": {},
   "source": [
    "Now, imagine for a second that the following equality holds true:\n",
    "\n",
    "$$W2V(good) - W2V(bad) = W2V(nice) - W2V(stupid)$$\n",
    "\n",
    "which is equivalent to:\n",
    "\n",
    "$$W2V(good) - W2V(bad) + W2V(stupid) = W2V(nice)$$"
   ]
  },
  {
   "cell_type": "markdown",
   "metadata": {},
   "source": [
    "❓ **Question** ❓ Let's, just for fun (as it would be bold of us to think that this equality holds true ...), do the operation $W2V(good) - W2V(bad) + W2V(stupid)$ and store it in a `res` variable (which will be a vector of size 100 that you can print)."
   ]
  },
  {
   "cell_type": "code",
   "execution_count": 31,
   "metadata": {
    "execution": {
     "iopub.execute_input": "2025-05-22T13:44:45.854701Z",
     "iopub.status.busy": "2025-05-22T13:44:45.853613Z",
     "iopub.status.idle": "2025-05-22T13:44:45.860715Z",
     "shell.execute_reply": "2025-05-22T13:44:45.859827Z",
     "shell.execute_reply.started": "2025-05-22T13:44:45.854674Z"
    },
    "tags": [
     "challengify"
    ]
   },
   "outputs": [
    {
     "name": "stdout",
     "output_type": "stream",
     "text": [
      "[-0.07319799 -0.08192265  0.25728452 -0.00549683  0.084134   -1.055527\n",
      " -0.38375267  0.96810323 -0.82646006 -0.980011   -0.06371433 -0.64923036\n",
      "  0.45455718  0.287198    0.02552099 -0.37216562  0.06024289 -0.20910937\n",
      " -0.22099082 -0.94026154  0.41947013  0.15370622  0.6776504  -0.15451182\n",
      " -0.0754095  -0.24708644 -0.4656643   0.4080537  -0.36283067 -0.46379378\n",
      "  0.11842424  0.2063068   0.50628424 -0.31047693 -0.4069112   0.26440632\n",
      "  0.46300662 -0.3017544  -0.33998182  0.05125105 -0.07403755 -0.4883195\n",
      " -0.40367386  0.16172382  0.5824053  -0.3014261   0.3531086  -0.4297876\n",
      " -0.28623593  0.42790037 -0.04284374 -0.16454421 -0.73710984  0.42300236\n",
      "  0.02700239  0.42088002  0.18963303  0.05300869 -0.29741216  0.06858104\n",
      "  0.16341689  0.16211003 -0.02859178 -0.08299357 -0.1910814   0.4705549\n",
      "  0.08129907 -0.10774717  0.32296517  0.324759   -0.5260055  -0.02630785\n",
      "  0.35092822  0.43844658  0.27033928 -0.0097027  -0.01966489 -0.21588317\n",
      " -0.02148321  0.14976458  0.39929244 -0.24190737 -0.5750989   0.38821167\n",
      " -0.71095526  0.46141273  0.16122508  0.00838204  0.41118532 -0.22229719\n",
      " -0.08308083  0.15114667  0.0855018   0.48434335  0.22220576  0.22407031\n",
      "  0.33721617  0.08304352 -0.5483305  -0.36133617]\n"
     ]
    }
   ],
   "source": [
    "res = wv['good']-wv['bad']+wv['stupid']\n",
    "print(res)"
   ]
  },
  {
   "cell_type": "markdown",
   "metadata": {},
   "source": [
    "We said earlier, that for any vector it is possible to see the closest vectors in the embedding space."
   ]
  },
  {
   "cell_type": "markdown",
   "metadata": {},
   "source": [
    "❓ **Question** ❓ Look at the closest vectors of `res`\n",
    "\n",
    "💡 _Hint_: `similar_by_vector`"
   ]
  },
  {
   "cell_type": "code",
   "execution_count": 33,
   "metadata": {
    "execution": {
     "iopub.execute_input": "2025-05-22T13:45:38.023880Z",
     "iopub.status.busy": "2025-05-22T13:45:38.023605Z",
     "iopub.status.idle": "2025-05-22T13:45:38.040691Z",
     "shell.execute_reply": "2025-05-22T13:45:38.039316Z",
     "shell.execute_reply.started": "2025-05-22T13:45:38.023859Z"
    },
    "tags": [
     "challengify"
    ]
   },
   "outputs": [
    {
     "name": "stdout",
     "output_type": "stream",
     "text": [
      "[('nice', 0.7872844338417053), ('good', 0.7430687546730042), ('decent', 0.7390629649162292), ('great', 0.733694314956665), ('such', 0.7264269590377808), ('hailed', 0.7223927974700928), ('successful', 0.7219948768615723), ('written', 0.7202735543251038), ('potential', 0.7142477035522461), ('delivered', 0.7101901769638062)]\n"
     ]
    }
   ],
   "source": [
    "print(wv.similar_by_vector(res))"
   ]
  },
  {
   "cell_type": "markdown",
   "metadata": {},
   "source": [
    "Incredible right! You can do arithmetic operations on words!\n",
    "\n",
    "❓ **Question** ❓ You can try on arithmetic such as \n",
    "\n",
    "$$W2V(Boy) - W2V(Girl) = W2V(Man) - W2V(Woman)$$\n",
    "\n",
    "or \n",
    "\n",
    "$$W2V(Queen) - W2V(King) = W2V(actress) - W2V(actor)$$\n",
    "\n",
    "❗ **Remark** ❗ You will probably see that the results are not perfect. But don't forget that you trained your model on a very small corpus."
   ]
  },
  {
   "cell_type": "code",
   "execution_count": null,
   "metadata": {
    "tags": [
     "challengify"
    ]
   },
   "outputs": [],
   "source": [
    "# YOUR CODE HERE"
   ]
  },
  {
   "cell_type": "markdown",
   "metadata": {},
   "source": [
    "<u><i>Some notes about Word2Vec as an internal Neural Network</i></u>:\n",
    "\n",
    "You might wonder where does this magic comes from (at quite a low price, you just ran a line of code on a very small corpus and it was trained within few minutes). The magic comes from the way Word2Vec is trained. The details are quite complex, but you can remember that Word2vec, in `word2vec = Word2Vec(sentences=X_train)`, actually trains a internal neural network (that you don't see).  \n",
    "\n",
    "In a nutshell, this internal neural network predicts a word from the surroundings words in a sentences. Hence, it splits the original sentences, then for each split it chooses some words as inputs $X$ and a word as the output $y$ which it tries to predict, using the embedding space.\n",
    "\n",
    "And as with any neural network, Word2Vec has some hyperparameters. Let's play with some of these. "
   ]
  },
  {
   "cell_type": "markdown",
   "metadata": {},
   "source": [
    "# Word2Vec hyperparameters"
   ]
  },
  {
   "cell_type": "markdown",
   "metadata": {},
   "source": [
    "❓ **Question** ❓ The first important hyperparameter is the `vector_size` argument. It corresponds to the size of the embedding space. Learn a new `word2vec_2` model, still trained on the `X_train`, but with a smaller or higher `vector_size`.\n",
    "\n",
    "Verify on some words that the embedding size is the one you chose."
   ]
  },
  {
   "cell_type": "code",
   "execution_count": 34,
   "metadata": {
    "execution": {
     "iopub.execute_input": "2025-05-22T13:51:17.750302Z",
     "iopub.status.busy": "2025-05-22T13:51:17.749990Z",
     "iopub.status.idle": "2025-05-22T13:51:19.753395Z",
     "shell.execute_reply": "2025-05-22T13:51:19.752386Z",
     "shell.execute_reply.started": "2025-05-22T13:51:17.750280Z"
    },
    "tags": [
     "challengify"
    ]
   },
   "outputs": [],
   "source": [
    "from gensim.models import Word2Vec\n",
    "\n",
    "# Train a new model with vector_size = 200\n",
    "word2vec_2 = Word2Vec(sentences=X_train, vector_size=200)\n",
    "\n",
    "# Get the word vectors\n",
    "wv2 = word2vec_2.wv\n"
   ]
  },
  {
   "cell_type": "code",
   "execution_count": 36,
   "metadata": {
    "execution": {
     "iopub.execute_input": "2025-05-22T13:51:36.028554Z",
     "iopub.status.busy": "2025-05-22T13:51:36.028186Z",
     "iopub.status.idle": "2025-05-22T13:51:36.033188Z",
     "shell.execute_reply": "2025-05-22T13:51:36.032354Z",
     "shell.execute_reply.started": "2025-05-22T13:51:36.028532Z"
    }
   },
   "outputs": [
    {
     "name": "stdout",
     "output_type": "stream",
     "text": [
      "(200,)\n",
      "(200,)\n"
     ]
    }
   ],
   "source": [
    "# Choose a word that exists in your training data\n",
    "print(wv2['germany'].shape)\n",
    "print(wv2['india'].shape)"
   ]
  },
  {
   "cell_type": "markdown",
   "metadata": {},
   "source": [
    "❓ **Question** ❓ Use the **`Word2Vec.wv.key_to_index`** attribute to display the size of the learned vocabulary. Compare it to the number of different words in `X_train`."
   ]
  },
  {
   "cell_type": "code",
   "execution_count": 37,
   "metadata": {
    "execution": {
     "iopub.execute_input": "2025-05-22T13:53:14.477522Z",
     "iopub.status.busy": "2025-05-22T13:53:14.477046Z",
     "iopub.status.idle": "2025-05-22T13:53:14.484210Z",
     "shell.execute_reply": "2025-05-22T13:53:14.483195Z",
     "shell.execute_reply.started": "2025-05-22T13:53:14.477489Z"
    },
    "tags": [
     "challengify"
    ]
   },
   "outputs": [
    {
     "name": "stdout",
     "output_type": "stream",
     "text": [
      "Size of learned vocabulary: 8006\n"
     ]
    }
   ],
   "source": [
    "# Size of learned vocabulary\n",
    "vocab_size = len(word2vec.wv.key_to_index)\n",
    "print(\"Size of learned vocabulary:\", vocab_size)\n"
   ]
  },
  {
   "cell_type": "code",
   "execution_count": 38,
   "metadata": {
    "execution": {
     "iopub.execute_input": "2025-05-22T13:53:32.359408Z",
     "iopub.status.busy": "2025-05-22T13:53:32.357979Z",
     "iopub.status.idle": "2025-05-22T13:53:32.405285Z",
     "shell.execute_reply": "2025-05-22T13:53:32.403342Z",
     "shell.execute_reply.started": "2025-05-22T13:53:32.359339Z"
    }
   },
   "outputs": [
    {
     "name": "stdout",
     "output_type": "stream",
     "text": [
      "Number of unique words in X_train: 30419\n"
     ]
    }
   ],
   "source": [
    "# Flatten all words from all sentences\n",
    "all_words = [word for sentence in X_train for word in sentence]\n",
    "\n",
    "# Get the set of unique words\n",
    "unique_words = set(all_words)\n",
    "\n",
    "print(\"Number of unique words in X_train:\", len(unique_words))\n"
   ]
  },
  {
   "cell_type": "markdown",
   "metadata": {},
   "source": [
    "There is an important difference between the number of words in the train sentences and in the Word2Vec vocabulary, even though it has been trained on the train sentence set. The reasons comes from the second important hyperparameter of Word2Vec:  `min_count`. \n",
    "\n",
    "`min_count` is a integer that tells you how many occurrences a given word should have to be learned in the embedding space. For instance, let's say that the word \"movie\" appears 1000 times in the corpus and \"simba\" only 2 times. If `min_count=3`, the word \"simba\" will be skipped during the training.\n",
    "\n",
    "The intention is to learn a representation of words that are sufficiently present in the corpus to have a robust embedded representation."
   ]
  },
  {
   "cell_type": "markdown",
   "metadata": {},
   "source": [
    "❓ **Question** ❓ Learn a new `word2vec_3` model with a `min_count` higher than 5 (which is the default value) and a `word2vec_4` with a `min_count` smaller than 5, and then, compare the size of the vocabulary for all the different word2vecs that you have trained (you can choose any `vector_size` you want)."
   ]
  },
  {
   "cell_type": "code",
   "execution_count": 39,
   "metadata": {
    "execution": {
     "iopub.execute_input": "2025-05-22T13:55:15.597563Z",
     "iopub.status.busy": "2025-05-22T13:55:15.596837Z",
     "iopub.status.idle": "2025-05-22T13:55:21.702688Z",
     "shell.execute_reply": "2025-05-22T13:55:21.701823Z",
     "shell.execute_reply.started": "2025-05-22T13:55:15.597538Z"
    },
    "tags": [
     "challengify"
    ]
   },
   "outputs": [],
   "source": [
    "# You already have this (default min_count=5)\n",
    "word2vec = Word2Vec(sentences=X_train, vector_size=100)  # word2vec_1\n",
    "word2vec_2 = Word2Vec(sentences=X_train, vector_size=200)  # Different vector size\n",
    "\n",
    "# New model with higher min_count (e.g., 10)\n",
    "word2vec_3 = Word2Vec(sentences=X_train, vector_size=100, min_count=10)\n",
    "\n",
    "# New model with lower min_count (e.g., 2)\n",
    "word2vec_4 = Word2Vec(sentences=X_train, vector_size=100, min_count=2)\n"
   ]
  },
  {
   "cell_type": "code",
   "execution_count": 40,
   "metadata": {
    "execution": {
     "iopub.execute_input": "2025-05-22T13:55:33.343073Z",
     "iopub.status.busy": "2025-05-22T13:55:33.342774Z",
     "iopub.status.idle": "2025-05-22T13:55:33.351164Z",
     "shell.execute_reply": "2025-05-22T13:55:33.349826Z",
     "shell.execute_reply.started": "2025-05-22T13:55:33.343051Z"
    }
   },
   "outputs": [
    {
     "name": "stdout",
     "output_type": "stream",
     "text": [
      "Vocabulary size for word2vec (default min_count=5): 8006\n",
      "Vocabulary size for word2vec_2 (default min_count=5, vector_size=200): 8006\n",
      "Vocabulary size for word2vec_3 (min_count=10): 4503\n",
      "Vocabulary size for word2vec_4 (min_count=2): 16729\n"
     ]
    }
   ],
   "source": [
    "vocab_1 = len(word2vec.wv.key_to_index)\n",
    "vocab_2 = len(word2vec_2.wv.key_to_index)\n",
    "vocab_3 = len(word2vec_3.wv.key_to_index)\n",
    "vocab_4 = len(word2vec_4.wv.key_to_index)\n",
    "\n",
    "print(\"Vocabulary size for word2vec (default min_count=5):\", vocab_1)\n",
    "print(\"Vocabulary size for word2vec_2 (default min_count=5, vector_size=200):\", vocab_2)\n",
    "print(\"Vocabulary size for word2vec_3 (min_count=10):\", vocab_3)\n",
    "print(\"Vocabulary size for word2vec_4 (min_count=2):\", vocab_4)\n"
   ]
  },
  {
   "cell_type": "markdown",
   "metadata": {},
   "source": [
    "Remember that Word2Vec has an internal neural network that is optimized based on some predictions. These predictions actually correspond to predicting a word based on surrounding words. The surroundings words are in a `window` which corresponds to the number of words taken into account. And you can train the Word2Vec with different `window` sizes."
   ]
  },
  {
   "cell_type": "markdown",
   "metadata": {},
   "source": [
    "❓ **Question** ❓ Train a new `word2vec_5` model with a `window` different than previously (default is 5)."
   ]
  },
  {
   "cell_type": "code",
   "execution_count": 41,
   "metadata": {
    "execution": {
     "iopub.execute_input": "2025-05-22T13:57:06.185684Z",
     "iopub.status.busy": "2025-05-22T13:57:06.184743Z",
     "iopub.status.idle": "2025-05-22T13:57:07.540625Z",
     "shell.execute_reply": "2025-05-22T13:57:07.539556Z",
     "shell.execute_reply.started": "2025-05-22T13:57:06.185658Z"
    },
    "tags": [
     "challengify"
    ]
   },
   "outputs": [],
   "source": [
    "from gensim.models import Word2Vec\n",
    "\n",
    "word2vec_5 = Word2Vec(sentences=X_train, vector_size=100, window=2)\n"
   ]
  },
  {
   "cell_type": "code",
   "execution_count": 42,
   "metadata": {
    "execution": {
     "iopub.execute_input": "2025-05-22T13:57:18.609447Z",
     "iopub.status.busy": "2025-05-22T13:57:18.608535Z",
     "iopub.status.idle": "2025-05-22T13:57:18.613924Z",
     "shell.execute_reply": "2025-05-22T13:57:18.612928Z",
     "shell.execute_reply.started": "2025-05-22T13:57:18.609421Z"
    }
   },
   "outputs": [
    {
     "name": "stdout",
     "output_type": "stream",
     "text": [
      "Vocabulary size for word2vec_5 (window=2): 8006\n"
     ]
    }
   ],
   "source": [
    "print(\"Vocabulary size for word2vec_5 (window=2):\", len(word2vec_5.wv.key_to_index))\n"
   ]
  },
  {
   "cell_type": "markdown",
   "metadata": {},
   "source": [
    "The arguments you have seen (`vector_size`, `min_count` and `window`) are usually the ones that you should start playing with to get a better performance for your model.\n",
    "\n",
    "But you can also look at other arguments in the [**📚 Documentation - gensim.models.word2vec.Text8Corpus**](https://radimrehurek.com/gensim/models/word2vec.html#gensim.models.word2vec.Text8Corpus)"
   ]
  },
  {
   "cell_type": "markdown",
   "metadata": {},
   "source": [
    "# Convert our train and test set to RNN-ready datasets"
   ]
  },
  {
   "cell_type": "markdown",
   "metadata": {},
   "source": [
    "Remember that `Word2Vec` is the first step to the overall process of feeding such a representation into a RNN, as shown here:\n",
    "\n",
    "<img src=\"https://wagon-public-datasets.s3.amazonaws.com/data-science-images/06-DL/NLP/word2vec_representation.png\" alt=\"Word2Vec and RNN\" width=\"400px\" />\n",
    "\n",
    "\n",
    "\n",
    "Now, let's work on Step 2 by converting the training and test data into their vector representation to be ready to be fed in RNNs.\n",
    "\n",
    "❓ **Question** ❓ Now, write a function that, given a sentence, returns a matrix that corresponds to the embedding of the full sentence, which means that you have to embed each word one after the other and concatenate the result to output a 2D matrix (make sure that your output is a NumPy array)\n",
    "\n",
    "❗ **Remark** ❗ You will probably notice that some words you are trying to convert throw errors as they are said not to belong to the dictionary:\n",
    "\n",
    "- For the <font color=orange>test</font> set, this is understandable: <font color=orange>some words were not</font> in the <font color=blue>train</font> set and thus, their <font color=orange>embedded representation is unknown</font>\n",
    "- for the <font color=blue>train set</font>, due to `min_count` hyperparameter, not all the words have a vector representation.\n",
    "\n",
    "In any case, just skip the missing words here."
   ]
  },
  {
   "cell_type": "code",
   "execution_count": 53,
   "metadata": {
    "execution": {
     "iopub.execute_input": "2025-05-22T14:02:47.079926Z",
     "iopub.status.busy": "2025-05-22T14:02:47.079365Z",
     "iopub.status.idle": "2025-05-22T14:02:47.118280Z",
     "shell.execute_reply": "2025-05-22T14:02:47.115799Z",
     "shell.execute_reply.started": "2025-05-22T14:02:47.079904Z"
    }
   },
   "outputs": [
    {
     "ename": "AssertionError",
     "evalue": "",
     "output_type": "error",
     "traceback": [
      "\u001b[0;31m---------------------------------------------------------------------------\u001b[0m",
      "\u001b[0;31mAssertionError\u001b[0m                            Traceback (most recent call last)",
      "Cell \u001b[0;32mIn[53], line 11\u001b[0m\n\u001b[1;32m      9\u001b[0m \u001b[38;5;66;03m### Checks\u001b[39;00m\n\u001b[1;32m     10\u001b[0m embedded_sentence \u001b[38;5;241m=\u001b[39m embed_sentence(word2vec, example)\n\u001b[0;32m---> 11\u001b[0m \u001b[38;5;28;01massert\u001b[39;00m(\u001b[38;5;28mtype\u001b[39m(embedded_sentence) \u001b[38;5;241m==\u001b[39m np\u001b[38;5;241m.\u001b[39mndarray)\n\u001b[1;32m     12\u001b[0m \u001b[38;5;28;01massert\u001b[39;00m(embedded_sentence\u001b[38;5;241m.\u001b[39mshape \u001b[38;5;241m==\u001b[39m (\u001b[38;5;241m8\u001b[39m, \u001b[38;5;241m100\u001b[39m))\n\u001b[1;32m     14\u001b[0m embedded_sentence_missing_words \u001b[38;5;241m=\u001b[39m embed_sentence(word2vec, example_missing_words)\n",
      "\u001b[0;31mAssertionError\u001b[0m: "
     ]
    }
   ],
   "source": [
    "import numpy as np\n",
    "\n",
    "example = ['this', 'movie', 'is', 'the', 'worst', 'action', 'movie', 'ever']\n",
    "example_missing_words = ['this', 'movie', 'is', 'laaaaaaaaaame']\n",
    "\n",
    "def embed_sentence(word2vec, sentence):\n",
    "    pass  # YOUR CODE HERE\n",
    "\n",
    "### Checks\n",
    "embedded_sentence = embed_sentence(word2vec, example)\n",
    "assert(type(embedded_sentence) == np.ndarray)\n",
    "assert(embedded_sentence.shape == (8, 100))\n",
    "\n",
    "embedded_sentence_missing_words = embed_sentence(word2vec, example_missing_words)\n",
    "assert(type(embedded_sentence_missing_words) == np.ndarray)\n",
    "assert(embedded_sentence_missing_words.shape == (3, 100))"
   ]
  },
  {
   "cell_type": "markdown",
   "metadata": {},
   "source": [
    "❓ **Question** ❓ Write a function that, given a list of sentences (each sentence being a list of words/strings), returns a list of embedded sentences (each sentence is a matrix). Apply this function to the train and test sentences\n",
    "\n",
    "💡 _Hint_: Use the previous function `embed_sentence`"
   ]
  },
  {
   "cell_type": "code",
   "execution_count": 54,
   "metadata": {
    "execution": {
     "iopub.execute_input": "2025-05-22T14:04:42.585704Z",
     "iopub.status.busy": "2025-05-22T14:04:42.585222Z",
     "iopub.status.idle": "2025-05-22T14:04:45.688026Z",
     "shell.execute_reply": "2025-05-22T14:04:45.686794Z",
     "shell.execute_reply.started": "2025-05-22T14:04:42.585679Z"
    }
   },
   "outputs": [],
   "source": [
    "import numpy as np\n",
    "\n",
    "def embedding(word2vec, sentences):\n",
    "    wv = word2vec.wv\n",
    "    embedded_sentences = []\n",
    "\n",
    "    for sentence in sentences:\n",
    "        # Only keep words that are in the vocabulary\n",
    "        vectors = [wv[word] for word in sentence if word in wv]\n",
    "        \n",
    "        # Convert to a matrix (num_words x vector_size)\n",
    "        if vectors:\n",
    "            sentence_matrix = np.vstack(vectors)\n",
    "        else:\n",
    "            # If none of the words are in vocab, return a zero row\n",
    "            sentence_matrix = np.zeros((1, wv.vector_size))\n",
    "        \n",
    "        embedded_sentences.append(sentence_matrix)\n",
    "\n",
    "    return embedded_sentences\n",
    "X_train_embedded = embedding(word2vec, X_train)\n",
    "X_test_embedded = embedding(word2vec, X_test)"
   ]
  },
  {
   "cell_type": "markdown",
   "metadata": {},
   "source": [
    "❓ **Question** ❓ In order to have ready-to-use data, do not forget to pad your sequences so you have tensors which can be divided into batches (of `batch_size`) during the optimization. Store the padded values in `X_train_pad` and `X_test_pad`. Do not forget the important arguments of the padding ;)"
   ]
  },
  {
   "cell_type": "code",
   "execution_count": 60,
   "metadata": {
    "execution": {
     "iopub.execute_input": "2025-05-22T14:10:13.817085Z",
     "iopub.status.busy": "2025-05-22T14:10:13.816774Z",
     "iopub.status.idle": "2025-05-22T14:10:14.434487Z",
     "shell.execute_reply": "2025-05-22T14:10:14.433136Z",
     "shell.execute_reply.started": "2025-05-22T14:10:13.817065Z"
    }
   },
   "outputs": [
    {
     "name": "stdout",
     "output_type": "stream",
     "text": [
      "Padded training shape: (2500, 1082, 100)\n",
      "Padded test shape: (2500, 1082, 100)\n"
     ]
    }
   ],
   "source": [
    "from tensorflow.keras.preprocessing.sequence import pad_sequences\n",
    "\n",
    "# Pad the sequences\n",
    "X_train_pad= pad_sequences(X_train_embedded, dtype='int32', padding='post')\n",
    "X_test_pad = pad_sequences(X_train_embedded, dtype='int32', padding='post')\n",
    "\n",
    "# Check the shape after padding\n",
    "print(f\"Padded training shape: {X_train_pad.shape}\")\n",
    "print(f\"Padded test shape: {X_test_pad.shape}\")\n"
   ]
  },
  {
   "cell_type": "code",
   "execution_count": 61,
   "metadata": {
    "execution": {
     "iopub.execute_input": "2025-05-22T14:10:18.919967Z",
     "iopub.status.busy": "2025-05-22T14:10:18.918761Z",
     "iopub.status.idle": "2025-05-22T14:10:18.927265Z",
     "shell.execute_reply": "2025-05-22T14:10:18.925571Z",
     "shell.execute_reply.started": "2025-05-22T14:10:18.919942Z"
    }
   },
   "outputs": [],
   "source": [
    "### YOUR CODE HERE\n",
    "\n",
    "assert(len(X_train_pad.shape) == 3)\n",
    "assert(len(X_test_pad.shape) == 3)\n",
    "assert(X_train_pad.shape[2] == 100)\n",
    "assert(X_test_pad.shape[2] == 100)"
   ]
  },
  {
   "cell_type": "markdown",
   "metadata": {},
   "source": [
    "\n",
    "\n",
    "🏁 Congratulations, you are now able to use `Word2Vec` to embed your words :)\n",
    "\n",
    "💾 Don't forget to git add/commit/push your notebook...\n",
    "\n",
    "🚀 ... and move on to the next challenge!\n"
   ]
  }
 ],
 "metadata": {
  "kernelspec": {
   "display_name": "Python 3 (ipykernel)",
   "language": "python",
   "name": "python3"
  },
  "language_info": {
   "codemirror_mode": {
    "name": "ipython",
    "version": 3
   },
   "file_extension": ".py",
   "mimetype": "text/x-python",
   "name": "python",
   "nbconvert_exporter": "python",
   "pygments_lexer": "ipython3",
   "version": "3.12.9"
  }
 },
 "nbformat": 4,
 "nbformat_minor": 4
}
